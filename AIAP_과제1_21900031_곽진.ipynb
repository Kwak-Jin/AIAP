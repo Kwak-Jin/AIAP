{
 "cells": [
  {
   "cell_type": "code",
   "execution_count": 11,
   "id": "initial_id",
   "metadata": {
    "collapsed": true,
    "ExecuteTime": {
     "end_time": "2024-03-11T16:01:17.167546Z",
     "start_time": "2024-03-11T16:01:17.161546Z"
    }
   },
   "outputs": [],
   "source": [
    "import pandas as pd\n",
    "import numpy as np"
   ]
  },
  {
   "cell_type": "markdown",
   "source": [
    "# 2.1 Skim through the Dataset\n",
    "## 2.1.1 Table Visualization\n",
    "### Print the Wine dataset's metadata and its variable information"
   ],
   "metadata": {
    "collapsed": false
   },
   "id": "9702afc534ef7980"
  },
  {
   "cell_type": "code",
   "outputs": [
    {
     "name": "stdout",
     "output_type": "stream",
     "text": [
      "     1  14.23  1.71  2.43  15.6  127   2.8  3.06   .28  2.29   5.64  1.04  \\\n",
      "0    1  13.20  1.78  2.14  11.2  100  2.65  2.76  0.26  1.28   4.38  1.05   \n",
      "1    1  13.16  2.36  2.67  18.6  101  2.80  3.24  0.30  2.81   5.68  1.03   \n",
      "2    1  14.37  1.95  2.50  16.8  113  3.85  3.49  0.24  2.18   7.80  0.86   \n",
      "3    1  13.24  2.59  2.87  21.0  118  2.80  2.69  0.39  1.82   4.32  1.04   \n",
      "4    1  14.20  1.76  2.45  15.2  112  3.27  3.39  0.34  1.97   6.75  1.05   \n",
      "..  ..    ...   ...   ...   ...  ...   ...   ...   ...   ...    ...   ...   \n",
      "172  3  13.71  5.65  2.45  20.5   95  1.68  0.61  0.52  1.06   7.70  0.64   \n",
      "173  3  13.40  3.91  2.48  23.0  102  1.80  0.75  0.43  1.41   7.30  0.70   \n",
      "174  3  13.27  4.28  2.26  20.0  120  1.59  0.69  0.43  1.35  10.20  0.59   \n",
      "175  3  13.17  2.59  2.37  20.0  120  1.65  0.68  0.53  1.46   9.30  0.60   \n",
      "176  3  14.13  4.10  2.74  24.5   96  2.05  0.76  0.56  1.35   9.20  0.61   \n",
      "\n",
      "     3.92  1065  \n",
      "0    3.40  1050  \n",
      "1    3.17  1185  \n",
      "2    3.45  1480  \n",
      "3    2.93   735  \n",
      "4    2.85  1450  \n",
      "..    ...   ...  \n",
      "172  1.74   740  \n",
      "173  1.56   750  \n",
      "174  1.56   835  \n",
      "175  1.62   840  \n",
      "176  1.60   560  \n",
      "\n",
      "[177 rows x 14 columns]\n"
     ]
    }
   ],
   "source": [
    "Wine_dataset = pd.read_csv('dataset/wine/wine.data', sep=',')\n",
    "print(Wine_dataset)"
   ],
   "metadata": {
    "collapsed": false,
    "ExecuteTime": {
     "end_time": "2024-03-11T16:01:17.199625Z",
     "start_time": "2024-03-11T16:01:17.184547Z"
    }
   },
   "id": "7e5662a2a76225c6",
   "execution_count": 12
  },
  {
   "cell_type": "markdown",
   "source": [
    "### Print the first five rows of the dataset"
   ],
   "metadata": {
    "collapsed": false
   },
   "id": "961b62ede117d329"
  },
  {
   "cell_type": "code",
   "outputs": [
    {
     "name": "stdout",
     "output_type": "stream",
     "text": [
      "   1  14.23  1.71  2.43  15.6  127   2.8  3.06   .28  2.29  5.64  1.04  3.92  \\\n",
      "0  1  13.20  1.78  2.14  11.2  100  2.65  2.76  0.26  1.28  4.38  1.05  3.40   \n",
      "1  1  13.16  2.36  2.67  18.6  101  2.80  3.24  0.30  2.81  5.68  1.03  3.17   \n",
      "2  1  14.37  1.95  2.50  16.8  113  3.85  3.49  0.24  2.18  7.80  0.86  3.45   \n",
      "3  1  13.24  2.59  2.87  21.0  118  2.80  2.69  0.39  1.82  4.32  1.04  2.93   \n",
      "4  1  14.20  1.76  2.45  15.2  112  3.27  3.39  0.34  1.97  6.75  1.05  2.85   \n",
      "\n",
      "   1065  \n",
      "0  1050  \n",
      "1  1185  \n",
      "2  1480  \n",
      "3   735  \n",
      "4  1450  \n"
     ]
    }
   ],
   "source": [
    "print(Wine_dataset.head(5))"
   ],
   "metadata": {
    "collapsed": false,
    "ExecuteTime": {
     "end_time": "2024-03-11T16:01:17.215546Z",
     "start_time": "2024-03-11T16:01:17.200546Z"
    }
   },
   "id": "41f1cd6300448163",
   "execution_count": 13
  },
  {
   "cell_type": "markdown",
   "source": [
    "### Print a table in which the columns are the variables and the rows are:\n",
    "1. count\n",
    "2. mean\n",
    "3. standard deviation\n",
    "4. minimum value\n",
    "5. 25% percentile\n",
    "6. median\n",
    "7. 75% percentile\n",
    "8. maximum value"
   ],
   "metadata": {
    "collapsed": false
   },
   "id": "253f90ef63554684"
  },
  {
   "cell_type": "code",
   "outputs": [],
   "source": [],
   "metadata": {
    "collapsed": false,
    "ExecuteTime": {
     "end_time": "2024-03-11T16:01:17.231546Z",
     "start_time": "2024-03-11T16:01:17.216546Z"
    }
   },
   "id": "fe3bd9eca9605269",
   "execution_count": 13
  },
  {
   "cell_type": "markdown",
   "source": [
    "## 2.1.2 Histogram Visualization\n",
    "### Plot a histogram for each variables of the Wine dataset."
   ],
   "metadata": {
    "collapsed": false
   },
   "id": "756f2f05798cd242"
  },
  {
   "cell_type": "code",
   "outputs": [],
   "source": [],
   "metadata": {
    "collapsed": false,
    "ExecuteTime": {
     "end_time": "2024-03-11T16:01:17.246546Z",
     "start_time": "2024-03-11T16:01:17.233546Z"
    }
   },
   "id": "45ef15ff1934e541",
   "execution_count": 13
  },
  {
   "cell_type": "markdown",
   "source": [
    "# 2.2 Train-Test Split\n",
    "## 2.2.1 User-defined function"
   ],
   "metadata": {
    "collapsed": false
   },
   "id": "3f519ed7f191b672"
  },
  {
   "cell_type": "code",
   "outputs": [],
   "source": [],
   "metadata": {
    "collapsed": false
   },
   "id": "ea54f35e2ea3d1aa"
  }
 ],
 "metadata": {
  "kernelspec": {
   "display_name": "Python 3",
   "language": "python",
   "name": "python3"
  },
  "language_info": {
   "codemirror_mode": {
    "name": "ipython",
    "version": 2
   },
   "file_extension": ".py",
   "mimetype": "text/x-python",
   "name": "python",
   "nbconvert_exporter": "python",
   "pygments_lexer": "ipython2",
   "version": "2.7.6"
  }
 },
 "nbformat": 4,
 "nbformat_minor": 5
}
